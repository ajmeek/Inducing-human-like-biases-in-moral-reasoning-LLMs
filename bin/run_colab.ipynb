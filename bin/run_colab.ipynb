{
 "cells": [
  {
   "attachments": {},
   "cell_type": "markdown",
   "metadata": {},
   "source": [
    "1. Go to https://github.com/settings/tokens and generate personal token\n",
    "2. Run code below with the token.\n"
   ]
  },
  {
   "cell_type": "code",
   "execution_count": null,
   "metadata": {},
   "outputs": [],
   "source": [
    "%%shell\n",
    "# Token from https://github.com/settings/tokens\n",
    "YOURTOKEN=<MY TOKEN HERE> ; git clone https://$YOURTOKEN@github.com/ameek2/Inducing-human-like-biases-in-moral-reasoning-LLMs.git\n",
    "cd Inducing-human-like-biases-in-moral-reasoning-LLMs\n",
    "pip install -r requirements.txt\n",
    "bash bin/download_ethics_ds.sh "
   ]
  },
  {
   "cell_type": "code",
   "execution_count": null,
   "metadata": {},
   "outputs": [],
   "source": [
    "! bash bin/train.sh --num_epochs=1 --only_train_head=False"
   ]
  },
  {
   "cell_type": "code",
   "execution_count": null,
   "metadata": {},
   "outputs": [],
   "source": [
    "%load_ext tensorboard\n",
    "%tensorboard --logdir /content/Inducing-human-like-biases-in-moral-reasoning-LLMs/artifacts"
   ]
  },
  {
   "cell_type": "markdown",
   "metadata": {},
   "source": []
  }
 ],
 "metadata": {
  "language_info": {
   "name": "python"
  },
  "orig_nbformat": 4
 },
 "nbformat": 4,
 "nbformat_minor": 2
}
