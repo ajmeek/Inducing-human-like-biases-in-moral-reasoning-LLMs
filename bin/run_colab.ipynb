{
 "cells": [
  {
   "attachments": {},
   "cell_type": "markdown",
   "metadata": {},
   "source": [
    "1. Go to https://github.com/settings/tokens and generate personal token\n",
    "2. Run code below with the token.\n"
   ]
  },
  {
   "cell_type": "code",
   "execution_count": null,
   "metadata": {},
   "outputs": [],
   "source": [
    "! YOURTOKEN=MYTOKEN\n",
    "! URL=\"https://github.com/ameek2/Inducing-human-like-biases-in-moral-reasoning-LLMs/archive/refs/heads/ds000212_fine_tuning_bert.zip\"\n",
    "! curl --url $URL --header \"Authorization: Bearer $YOURTOKEN\" --header \"X-GitHub-Api-Version: 2022-11-28\" -LkO`\n",
    "! unzip *.zip\n"
   ]
  },
  {
   "cell_type": "code",
   "execution_count": null,
   "metadata": {},
   "outputs": [],
   "source": []
  }
 ],
 "metadata": {
  "language_info": {
   "name": "python"
  },
  "orig_nbformat": 4
 },
 "nbformat": 4,
 "nbformat_minor": 2
}
