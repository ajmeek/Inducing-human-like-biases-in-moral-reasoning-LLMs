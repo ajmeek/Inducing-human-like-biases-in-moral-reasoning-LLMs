{
 "cells": [
  {
   "attachments": {},
   "cell_type": "markdown",
   "metadata": {},
   "source": [
    "1. Go to https://github.com/settings/tokens and generate personal token\n",
    "2. Run code below with the token.\n"
   ]
  },
  {
   "cell_type": "code",
   "execution_count": null,
   "metadata": {},
   "outputs": [],
   "source": [
    "! YOURTOKEN=<MY TOKEN HERE>   # Token from https://github.com/settings/tokens\n",
    "! git clone https://$YOURTOKEN@github.com/ameek2/Inducing-human-like-biases-in-moral-reasoning-LLMs.git\n",
    "! unzip ds000212_fine_tuning_bert.zip\n",
    "! cd Inducing-human-like-biases-in-moral-reasoning-LLMs-ds000212_fine_tuning_bert/\n",
    "! pip install -r requirements.txt\n",
    "\n"
   ]
  },
  {
   "cell_type": "code",
   "execution_count": null,
   "metadata": {},
   "outputs": [],
   "source": [
    "! bash bin/train.sh --num_epochs=1 --only_train_head=False\n"
   ]
  },
  {
   "cell_type": "markdown",
   "metadata": {},
   "source": []
  }
 ],
 "metadata": {
  "language_info": {
   "name": "python"
  },
  "orig_nbformat": 4
 },
 "nbformat": 4,
 "nbformat_minor": 2
}
